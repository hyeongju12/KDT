{
 "cells": [
  {
   "cell_type": "code",
   "execution_count": 3,
   "source": [
    "from selenium import webdriver\r\n",
    "from bs4 import BeautifulSoup\r\n",
    "import pandas as pd\r\n",
    "\r\n",
    "driver = webdriver.Chrome('./chromedriver.exe')\r\n",
    "url = 'https://music.bugs.co.kr/chart'\r\n",
    "driver.get(url)\r\n",
    "\r\n",
    "html = driver.page_source\r\n",
    "soup = BeautifulSoup(html, 'html.parser')"
   ],
   "outputs": [],
   "metadata": {}
  },
  {
   "cell_type": "code",
   "execution_count": 4,
   "source": [
    "songs = soup.select('tr')\r\n",
    "print(len(songs))"
   ],
   "outputs": [
    {
     "output_type": "stream",
     "name": "stdout",
     "text": [
      "104\n"
     ]
    }
   ],
   "metadata": {}
  },
  {
   "cell_type": "code",
   "execution_count": 7,
   "source": [
    "songs = soup.select('tbody > tr')\r\n",
    "print(len(songs))"
   ],
   "outputs": [
    {
     "output_type": "stream",
     "name": "stdout",
     "text": [
      "103\n"
     ]
    }
   ],
   "metadata": {}
  },
  {
   "cell_type": "code",
   "execution_count": 9,
   "source": [
    "songs = soup.select('table > tbody > tr')\r\n",
    "print(len(songs))"
   ],
   "outputs": [
    {
     "output_type": "stream",
     "name": "stdout",
     "text": [
      "103\n"
     ]
    }
   ],
   "metadata": {}
  },
  {
   "cell_type": "code",
   "execution_count": 10,
   "source": [
    "songs= soup.select('table.byChart > tbody > tr')\r\n",
    "print(len(songs))"
   ],
   "outputs": [
    {
     "output_type": "stream",
     "name": "stdout",
     "text": [
      "100\n"
     ]
    }
   ],
   "metadata": {}
  },
  {
   "cell_type": "code",
   "execution_count": 11,
   "source": [
    "print(songs[0])"
   ],
   "outputs": [
    {
     "output_type": "stream",
     "name": "stdout",
     "text": [
      "<tr albumid=\"20416040\" artistid=\"80005030\" multiartist=\"N\" mvid=\"0\" rowtype=\"track\" trackid=\"32315721\">\n",
      "<input name=\"_isStream\" type=\"hidden\" value=\"32315721\"/>\n",
      "<input name=\"_isDown\" type=\"hidden\" value=\"32315721\"/>\n",
      "<td class=\"check\"><input buyminquality=\"T\" disc_id=\"1\" name=\"check\" title=\"회상\" type=\"checkbox\" value=\"32315721\"/></td>\n",
      "<td>\n",
      "<div class=\"ranking\">\n",
      "<strong>1</strong>\n",
      "<p class=\"change up\"><span class=\"arrow\"></span> <em>1</em> <span>계단 상승</span></p>\n",
      "</div>\n",
      "</td>\n",
      "<td>\n",
      "<a class=\"thumbnail\" href=\"https://music.bugs.co.kr/album/20416040?wl_ref=list_tr_07_chart\" onclick=\"\n",
      "\">\n",
      "<span class=\"mask\"></span>\n",
      "<img alt=\"슬기로운 의사생활 시즌2 OST Part 9 대표이미지\" onerror=\"bugs.utils.imgError(this);\" src=\"https://image.bugsm.co.kr/album/images/50/204160/20416040.jpg?version=20210820120024.0\"/>\n",
      "</a>\n",
      "</td>\n",
      "<td>\n",
      "<a class=\"trackInfo\" href=\"https://music.bugs.co.kr/track/32315721?wl_ref=list_tr_08_chart\" onclick=\"\n",
      "\">곡정보</a>\n",
      "</td>\n",
      "<th scope=\"row\">\n",
      "<p adult_yn=\"N\" class=\"title\">\n",
      "<a adultcheckval=\"1\" aria-label=\"새창\" href=\"javascript:;\" onclick=\"bugs.wiselog.area('list_tr_09_chart');bugs.music.listen('32315721',true);\n",
      "\" title=\"회상\">회상</a>\n",
      "</p>\n",
      "</th>\n",
      "<td class=\"left\">\n",
      "<p class=\"artist\">\n",
      "<a href=\"https://music.bugs.co.kr/artist/80005030?wl_ref=list_tr_10_chart\" onclick=\"\n",
      "\" title=\"정경호\">정경호</a>\n",
      "</p>\n",
      "</td>\n",
      "<td class=\"left\">\n",
      "<a class=\"album\" href=\"https://music.bugs.co.kr/album/20416040?wl_ref=list_tr_11_chart\" onclick=\"\n",
      "\" title=\"슬기로운 의사생활 시즌2 OST Part 9\">슬기로운 의사생활 시즌2 OST Part 9</a>\n",
      "</td>\n",
      "<td>\n",
      "<a adultcheckval=\"1\" aria-label=\"새창\" class=\"btn play\" href=\"javascript:;\" onclick=\"bugs.wiselog.area('list_tr_12_chart');bugs.music.listen('32315721',true);\n",
      "\">듣기</a>\n",
      "</td>\n",
      "<td>\n",
      "<a adultcheckval=\"1\" aria-label=\"새창\" class=\"btn addPlaylist\" href=\"javascript:;\" onclick=\"bugs.wiselog.area('list_tr_13_chart');bugs.music.listen('32315721');\n",
      "\">재생목록에 추가</a>\n",
      "</td>\n",
      "<td>\n",
      "<a class=\"btn addAlbum\" href=\"javascript:;\" onclick=\"bugs.wiselog.area('list_tr_14_chart');bugs.music.addTrackToMyAlbum(this,'32315721');\n",
      "\" track_title=\"회상\">내 앨범에 담기</a>\n",
      "</td>\n",
      "<td>\n",
      "<a adultcheckval=\"1\" aria-label=\"새창\" class=\"btn download flac\" href=\"javascript:;\" onclick=\"bugs.wiselog.area('list_tr_15_chart');bugs.layermenu.down(this,'32315721','true','true','44.1','true','48', null );\n",
      "\"><em class=\"flac\">flac </em>다운로드</a>\n",
      "</td>\n",
      "<td>\n",
      "<span class=\"btn viewMV\">영상 재생 불가</span>\n",
      "</td>\n",
      "<td>\n",
      "<a artist_disp_nm=\"정경호\" artist_id=\"80005030\" class=\"btnActions\" href=\"javascript:;\" layer_type=\"CHART\" layerpositiontarget=\"td\" onclick=\"bugs.wiselog.area('list_tr_17_chart');\n",
      "bugs.layermenu.trackMoreAction(this,'32315721','0','20416040','bugs.music.listenRadioFromSeed(\\'32315721\\',\\'track\\');','N', 'Y', '_chart');\n",
      "\" track_title=\"회상\">기타 기능</a>\n",
      "</td>\n",
      "</tr>\n"
     ]
    }
   ],
   "metadata": {}
  },
  {
   "cell_type": "code",
   "execution_count": 14,
   "source": [
    "song = songs[0]"
   ],
   "outputs": [],
   "metadata": {}
  },
  {
   "cell_type": "code",
   "execution_count": 15,
   "source": [
    "title = song.select('a')\r\n",
    "len(title)"
   ],
   "outputs": [
    {
     "output_type": "execute_result",
     "data": {
      "text/plain": [
       "10"
      ]
     },
     "metadata": {},
     "execution_count": 15
    }
   ],
   "metadata": {}
  },
  {
   "cell_type": "code",
   "execution_count": 16,
   "source": [
    "title = song.select('p > a')\r\n",
    "len(title)"
   ],
   "outputs": [
    {
     "output_type": "execute_result",
     "data": {
      "text/plain": [
       "2"
      ]
     },
     "metadata": {},
     "execution_count": 16
    }
   ],
   "metadata": {}
  },
  {
   "cell_type": "code",
   "execution_count": 17,
   "source": [
    "title = song.select('p.title>a')"
   ],
   "outputs": [],
   "metadata": {}
  },
  {
   "cell_type": "code",
   "execution_count": 20,
   "source": [
    "title = song.select('p.title > a')[0].text\r\n",
    "title"
   ],
   "outputs": [
    {
     "output_type": "execute_result",
     "data": {
      "text/plain": [
       "'회상'"
      ]
     },
     "metadata": {},
     "execution_count": 20
    }
   ],
   "metadata": {}
  },
  {
   "cell_type": "code",
   "execution_count": 21,
   "source": [
    "singer = song.select('p.artist > a')[0].text\r\n",
    "singer"
   ],
   "outputs": [
    {
     "output_type": "execute_result",
     "data": {
      "text/plain": [
       "'정경호'"
      ]
     },
     "metadata": {},
     "execution_count": 21
    }
   ],
   "metadata": {}
  },
  {
   "cell_type": "code",
   "execution_count": 27,
   "source": [
    "songs = soup.select('table.byChart > tbody > tr')\r\n",
    "for song in songs:\r\n",
    "    title = song.select('p.title > a')[0].text\r\n",
    "    singer = song.select('p.artist > a')[0].text\r\n",
    "    print(title, singer, sep='|')"
   ],
   "outputs": [
    {
     "output_type": "stream",
     "name": "stdout",
     "text": [
      "회상|정경호\n",
      "Queendom|Red Velvet (레드벨벳)\n",
      "DUMB DUMB|전소미\n",
      "STAY|The Kid LAROI\n",
      "낙하 (with 아이유)|AKMU(악뮤)\n",
      "사진을 보다가|다비치\n",
      "Next Level|aespa\n",
      "신호등|이무진\n",
      "Weekend|태연 (TAEYEON)\n",
      "Permission to Dance|방탄소년단\n",
      "비가 오는 날엔 (2021)|헤이즈(Heize)\n",
      "Bad Habits|Ed Sheeran(에드 시런)\n",
      "여전히 아름다운지|세븐틴(SEVENTEEN)\n",
      "Visiting Hours|Ed Sheeran(에드 시런)\n",
      "바라만 본다|MSG워너비(M.O.M)\n",
      "Butter|방탄소년단\n",
      "고백|10CM\n",
      "좋아좋아|조정석\n",
      "둘 중에 골라 (Summer or Summer)|효린\n",
      "너에게|유연석\n",
      "Alcohol-Free|TWICE (트와이스)\n",
      "OHAYO MY NIGHT|디핵(D-Hack)\n",
      "You can't sit with us|선미\n",
      "Dun Dun Dance|오마이걸(OH MY GIRL)\n",
      "Leave Before You Love Me|Marshmello(마시멜로)\n",
      "Black Mamba|aespa\n",
      "Peaches (feat. Daniel Caesar, Giveon)|Justin Bieber(저스틴 비버)\n",
      "벌써 일년 (Drama Ver.)|미도와 파라솔\n",
      "롤린 (Rollin')|브레이브걸스(Brave Girls)\n",
      "이젠 잊기로 해요 (Drama Ver.)|미도와 파라솔\n",
      "전쟁터 (with 이선희)|AKMU(악뮤)\n",
      "ASAP|STAYC(스테이씨)\n",
      "고백|장범준\n",
      "상상더하기|라붐(LABOUM)\n",
      "헤픈 우연|헤이즈(Heize)\n",
      "비와 당신|이무진\n",
      "라일락|아이유(IU)\n",
      "치맛바람 (Chi Mat Ba Ram)|브레이브걸스(Brave Girls)\n",
      "Off My Face|Justin Bieber(저스틴 비버)\n",
      "슈퍼스타|미도와 파라솔\n",
      "운전만해 (We Ride)|브레이브걸스(Brave Girls)\n",
      "다정히 내 이름을 부르면|경서예지\n",
      "Knock On Wood|Red Velvet (레드벨벳)\n",
      "제자리 걸음|V.O.S.\n",
      "Celebrity|아이유(IU)\n",
      "비 오는 날 듣기 좋은 노래 (Feat. Colde)|에픽하이 (EPIK HIGH)\n",
      "가을 우체국 앞에서|김대명\n",
      "Dynamite|방탄소년단\n",
      "도망가자 (Run With Me)|선우정아(Sunwoojunga)\n",
      "Kiss Me More (feat. SZA)|Doja Cat(도자 캣)\n",
      "THRILL RIDE|더보이즈(THE BOYZ)\n",
      "I'm Gonna Love You (Feat. 원슈타인)|디오 (D.O.)\n",
      "Stupid love song (with Crush)|AKMU(악뮤)\n",
      "하루만 더|빅마마(Big Mama)\n",
      "Lovesick Girls|BLACKPINK\n",
      "Loving You Girl (feat. Hkeem)|Peder Elias\n",
      "안녕 (Hello)|조이 (JOY)\n",
      "뚫고 지나가요|DAY6 (Even of Day)\n",
      "사랑하니까 (2021)|이보람 (씨야)\n",
      "parachute|John K\n",
      "어푸 (Ah puh)|아이유(IU)\n",
      "내 손을 잡아|아이유(IU)\n",
      "Pose|Red Velvet (레드벨벳)\n",
      "Timeless|SG워너비\n",
      "LO$ER=LO♡ER|투모로우바이투게더\n",
      "다시, 여름 (Hello, Sunset)|Red Velvet (레드벨벳)\n",
      "밤이 되니까|원슈타인\n",
      "Blueming|아이유(IU)\n",
      "BENCH (with Zion.T)|AKMU(악뮤)\n",
      "흔들리는 꽃들 속에서 네 샴푸향이 느껴진거야|장범준\n",
      "째깍 째깍 째깍 (with Beenzino)|AKMU(악뮤)\n",
      "넌 좋은 사람|SG워너비\n",
      "나는 너 좋아|장범준\n",
      "WE GO|프로미스나인\n",
      "자니|하성운X펀치(Punch)\n",
      "에잇(Prod.&Feat. SUGA of BTS)|아이유(IU)\n",
      "보고 싶단 말이야|펀치 (Punch)\n",
      "Leave The Door Open|Bruno Mars(브루노 마스)\n",
      "Pushin' N Pullin'|Red Velvet (레드벨벳)\n",
      "작은 것들을 위한 시 (Boy With Luv) (Feat. Halsey)|방탄소년단\n",
      "외딴섬 로맨틱|잔나비\n",
      "Better Be|Red Velvet (레드벨벳)\n",
      "추적이는 여름 비가 되어|장범준\n",
      "A Little Space (feat. YUNHO, SAN, JONGHO of ATEEZ)|Pentatonix(펜타토닉스)\n",
      "Savage Love (Laxed - Siren Beat) (BTS Remix)|Jawsh 685\n",
      "Dolphin|오마이걸(OH MY GIRL)\n",
      "나를 아는 사람|MSG워너비(정상동기)\n",
      "어떻게 이별까지 사랑하겠어, 널 사랑하는 거지|AKMU(악뮤)\n",
      "마.피.아. In the morning|ITZY (있지)\n",
      "Save Your Tears (Remix)|The Weeknd(위켄드)\n",
      "사이렌 Remix (Feat. UNEDUCATED KID, Paul Blanco)|호미들\n",
      "Life Goes On|방탄소년단\n",
      "다정한 봄에게|온유 (ONEW)\n",
      "Second (Feat. 비비 (BIBI))|효연 (HYO)\n",
      "허리춤|오반 (OVAN)\n",
      "Coin|아이유(IU)\n",
      "SUNNY|선미\n",
      "EVEREST (with Sam Kim) |AKMU(악뮤)\n",
      "Tiny Riot|Sam Ryder\n",
      "은하수를 닮은 너에게 (Feat.몰리디)|경서예지\n"
     ]
    }
   ],
   "metadata": {}
  },
  {
   "cell_type": "code",
   "execution_count": 31,
   "source": [
    "song_data=[]\r\n",
    "rank = 1\r\n",
    "songs= soup.select('table.byChart > tbody > tr')\r\n",
    "for song in songs:\r\n",
    "    title = song.select('p.title > a')[0].text\r\n",
    "    singer = song.select('p.artist > a')[0].text\r\n",
    "    song_data.append(['Bugs', rank, title, singer])\r\n",
    "    rank += 1"
   ],
   "outputs": [],
   "metadata": {}
  },
  {
   "cell_type": "code",
   "execution_count": 32,
   "source": [
    "columns = ['서비스', '순위', '타이틀', '가수']\r\n",
    "pd_data = pd.DataFrame(song_data, columns = columns)\r\n",
    "pd_data.to_excel('./list_music/bugs100.xlsx', index = False)"
   ],
   "outputs": [],
   "metadata": {}
  },
  {
   "cell_type": "code",
   "execution_count": null,
   "source": [],
   "outputs": [],
   "metadata": {}
  }
 ],
 "metadata": {
  "orig_nbformat": 4,
  "language_info": {
   "name": "python",
   "version": "3.8.8",
   "mimetype": "text/x-python",
   "codemirror_mode": {
    "name": "ipython",
    "version": 3
   },
   "pygments_lexer": "ipython3",
   "nbconvert_exporter": "python",
   "file_extension": ".py"
  },
  "kernelspec": {
   "name": "python3",
   "display_name": "Python 3.8.8 64-bit ('base': conda)"
  },
  "interpreter": {
   "hash": "99f5bf87da37b7285843ad8f0ffc00907637550e46aac3424e710e9b3d7d5b94"
  }
 },
 "nbformat": 4,
 "nbformat_minor": 2
}