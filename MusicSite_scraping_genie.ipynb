{
 "cells": [
  {
   "cell_type": "code",
   "execution_count": 1,
   "source": [
    "from selenium import webdriver\r\n",
    "from bs4 import BeautifulSoup\r\n",
    "\r\n",
    "driver = webdriver.Chrome('./chromedriver.exe')\r\n",
    "url = 'https://www.genie.co.kr/chart/top200'\r\n",
    "driver.get(url)\r\n",
    "\r\n",
    "html = driver.page_source\r\n",
    "soup = BeautifulSoup(html,'lxml')"
   ],
   "outputs": [],
   "metadata": {}
  },
  {
   "cell_type": "code",
   "execution_count": 2,
   "source": [
    "songs = soup.select('table > tbody > tr')\r\n",
    "len(songs)"
   ],
   "outputs": [
    {
     "output_type": "execute_result",
     "data": {
      "text/plain": [
       "50"
      ]
     },
     "metadata": {},
     "execution_count": 2
    }
   ],
   "metadata": {}
  },
  {
   "cell_type": "code",
   "execution_count": 3,
   "source": [
    "print(songs[0])"
   ],
   "outputs": [
    {
     "output_type": "stream",
     "name": "stdout",
     "text": [
      "<tr class=\"list\" songid=\"93300145\">\n",
      "<td class=\"check\"><input class=\"select-check\" title=\"신호등\" type=\"checkbox\"/></td>\n",
      "<td class=\"number\">1\n",
      "                                        \n",
      "                                    <span class=\"rank\">\n",
      "<span class=\"rank\"><span class=\"rank-none\"><span class=\"hide\">유지</span></span></span>\n",
      "</span>\n",
      "</td>\n",
      "<td><a class=\"cover\" href=\"#\" onclick=\"fnViewAlbumLayer('82045022');return false;\"><span class=\"mask\"></span><img alt=\"신호등\" onerror=\"this.src='//image.genie.co.kr/imageg/web/common/blank_68.gif';\" src=\"//image.genie.co.kr/Y/IMAGE/IMG_ALBUM/082/045/022/82045022_1620896061233_1_140x140.JPG/dims/resize/Q_80,0\"/></a></td>\n",
      "<td class=\"link\"><a class=\"btn-basic btn-info\" href=\"#\" onclick=\"fnViewSongInfo('93300145');return false;\">곡 제목 정보 페이지</a></td>\n",
      "<td class=\"info\">\n",
      "<a class=\"title ellipsis\" href=\"#\" onclick=\"fnPlaySong('93300145','1');return false;\" title=\"재생\">\n",
      "                                        \n",
      "                                            \n",
      "                                        \n",
      "                                        \n",
      "                                        \n",
      "                                        \n",
      "                                            \n",
      "                                                신호등</a>\n",
      "<a class=\"artist ellipsis\" href=\"#\" onclick=\"fnViewArtist('80632742');return false;\">이무진</a>\n",
      "<div class=\"toggle-button-box\">\n",
      "<button class=\"btn artist-etc\" onclick=\"fnRelationArtistList('93300145');\" type=\"button\">외</button>\n",
      "<ul class=\"list\" id=\"RelationArtist_93300145\"></ul>\n",
      "</div>\n",
      "<i class=\"bar\">|</i>\n",
      "<a class=\"albumtitle ellipsis\" href=\"#\" onclick=\"fnViewAlbumLayer('82045022');return false;\">신호등</a>\n",
      "</td>\n",
      "<td class=\"btns\"><a class=\"btn-basic btn-listen\" href=\"#\" onclick=\"fnPlaySong('93300145;' ,'1'); return false;\" title=\"재생\">듣기</a></td>\n",
      "<td class=\"btns\"><a class=\"btn-basic btn-add\" href=\"#\" onclick=\"fnPlaySong('93300145;' ,'3'); return false;\" title=\"추가\">재생목록에 추가</a></td>\n",
      "<td class=\"btns\"><button class=\"btn-basic btn-album\" id=\"add_my_album_93300145\" onclick=\"fnAddMyAlbumForm('#add_my_album_93300145' , '93300145' ,10, 10);return false;\" songid=\"93300145\" type=\"button\">플레이리스트에 담기</button></td>\n",
      "<td class=\"btns\"><a class=\"btn-basic btn-down\" href=\"#\" onclick=\"fnDownSong('93300145');return false;\" title=\"다운\">다운로드</a></td>\n",
      "<td class=\"btns\">\n",
      "<div class=\"toggle-button-box lyr-mv\" id=\"list-mv_93300145\">\n",
      "<a alt=\"신호등\" class=\"btn btn-basic btn-mv\" href=\"#\" onclick=\"fnPlayMv('93300145','3'); return false;\" title=\"뮤비\">뮤직비디오 보기</a>\n",
      "</div>\n",
      "</td>\n",
      "<td class=\"more\">\n",
      "<div class=\"toggle-button-box\">\n",
      "<button class=\"btn btn-basic btn-more\" type=\"button\">더보기</button>\n",
      "<ul class=\"list\">\n",
      "<li><a class=\"item\" href=\"#\" onclick=\"shareDo('93300145');return false;\" title=\"공유\">공유하기/음악나누기</a></li>\n",
      "<li><a class=\"item\" href=\"#\" onclick=\"fnGiftSong('93300145');return false;\" title=\"선물\">선물하기</a></li>\n",
      "</ul>\n",
      "</div>\n",
      "</td>\n",
      "</tr>\n"
     ]
    }
   ],
   "metadata": {}
  },
  {
   "cell_type": "code",
   "execution_count": 4,
   "source": [
    "song = songs[0]"
   ],
   "outputs": [],
   "metadata": {}
  },
  {
   "cell_type": "code",
   "execution_count": 7,
   "source": [
    "title = song.select('a.title')\r\n",
    "len(title)"
   ],
   "outputs": [
    {
     "output_type": "execute_result",
     "data": {
      "text/plain": [
       "1"
      ]
     },
     "metadata": {},
     "execution_count": 7
    }
   ],
   "metadata": {}
  },
  {
   "cell_type": "code",
   "execution_count": 8,
   "source": [
    "title = song.select('a.title')[0].text"
   ],
   "outputs": [],
   "metadata": {}
  },
  {
   "cell_type": "code",
   "execution_count": 9,
   "source": [
    "title"
   ],
   "outputs": [
    {
     "output_type": "execute_result",
     "data": {
      "text/plain": [
       "'\\n                                        \\n                                            \\n                                        \\n                                        \\n                                        \\n                                        \\n                                            \\n                                                신호등'"
      ]
     },
     "metadata": {},
     "execution_count": 9
    }
   ],
   "metadata": {}
  },
  {
   "cell_type": "code",
   "execution_count": 10,
   "source": [
    "title = song.select('a.title')[0].text.strip()\r\n",
    "title"
   ],
   "outputs": [
    {
     "output_type": "execute_result",
     "data": {
      "text/plain": [
       "'신호등'"
      ]
     },
     "metadata": {},
     "execution_count": 10
    }
   ],
   "metadata": {}
  },
  {
   "cell_type": "code",
   "execution_count": 11,
   "source": [
    "singer = song.select('a.artist')\r\n",
    "len(singer)"
   ],
   "outputs": [
    {
     "output_type": "execute_result",
     "data": {
      "text/plain": [
       "1"
      ]
     },
     "metadata": {},
     "execution_count": 11
    }
   ],
   "metadata": {}
  },
  {
   "cell_type": "code",
   "execution_count": 12,
   "source": [
    "singer = song.select('a.artist')[0].text\r\n",
    "singer"
   ],
   "outputs": [
    {
     "output_type": "execute_result",
     "data": {
      "text/plain": [
       "'이무진'"
      ]
     },
     "metadata": {},
     "execution_count": 12
    }
   ],
   "metadata": {}
  },
  {
   "cell_type": "code",
   "execution_count": 14,
   "source": [
    "songs = soup.select('tbody > tr')\r\n",
    "for song in songs:\r\n",
    "    title = song.select('a.title')[0].text.strip()\r\n",
    "    singer = song.select('a.artist')[0].text\r\n",
    "    print(title, singer, sep='|')"
   ],
   "outputs": [
    {
     "output_type": "stream",
     "name": "stdout",
     "text": [
      "신호등|이무진\n",
      "Queendom|Red Velvet (레드벨벳)\n",
      "바라만 본다|MSG워너비 (M.O.M)\n",
      "낙하 (With 아이유)|AKMU (악뮤)\n",
      "Weekend|태연 (TAEYEON)\n",
      "Permission to Dance|방탄소년단\n",
      "사진을 보다가|다비치\n",
      "Next Level|aespa\n",
      "OHAYO MY NIGHT|디핵 (D-Hack) & PATEKO\n",
      "좋아좋아|조정석\n",
      "Stay|The Kid LAROI & Justin Bieber\n",
      "Bad Habits|Ed Sheeran\n",
      "Butter|방탄소년단\n",
      "DUMB DUMB|전소미\n",
      "Peaches (Feat. Daniel Caesar & Giveon)|Justin Bieber\n",
      "비와 당신|이무진\n",
      "헤픈 우연|헤이즈 (Heize)\n",
      "Dynamite|방탄소년단\n",
      "치맛바람 (Chi Mat Ba Ram)|브레이브걸스 (Brave girls)\n",
      "롤린 (Rollin')|브레이브걸스 (Brave girls)\n",
      "이제 나만 믿어요|임영웅\n",
      "비가 오는 날엔 (2021)|헤이즈 (Heize)\n",
      "라일락|아이유 (IU)\n",
      "고백|10CM\n",
      "Dun Dun Dance|오마이걸 (OH MY GIRL)\n",
      "회상|정경호\n",
      "하루만 더|빅마마 (Big Mama)\n",
      "Celebrity|아이유 (IU)\n",
      "Alcohol-Free|TWICE (트와이스)\n",
      "다정히 내 이름을 부르면|경서예지 & 전건호\n",
      "Savage Love (Laxed - Siren Beat) (BTS Remix)|Jawsh 685 & Jason Derulo & 방탄소년단\n",
      "별빛 같은 나의 사랑아|임영웅\n",
      "HERO|임영웅\n",
      "다시 사랑한다면 (김필 Ver.)|임영웅\n",
      "여전히 아름다운지|세븐틴 (SEVENTEEN)\n",
      "작은 것들을 위한 시 (Boy With Luv) (Feat. Halsey)|방탄소년단\n",
      "그대라는 사치|임영웅\n",
      "비 오는 날 듣기 좋은 노래 (Feat. Colde)|에픽하이 (EPIK HIGH)\n",
      "안녕 (Hello)|조이 (JOY)\n",
      "Bk Love|임영웅\n",
      "운전만해 (We Ride)|브레이브걸스 (Brave girls)\n",
      "나를 아는 사람|MSG워너비 (정상동기)\n",
      "가을 우체국 앞에서|김대명\n",
      "잊었니|임영웅\n",
      "ASAP|STAYC (스테이씨)\n",
      "상상더하기|라붐 (LABOUM)\n",
      "끝사랑|임영웅\n",
      "Blueming|아이유 (IU)\n",
      "미워요|임영웅\n",
      "Timeless|SG워너비\n"
     ]
    }
   ],
   "metadata": {}
  },
  {
   "cell_type": "code",
   "execution_count": 15,
   "source": [
    "song_data = []\r\n",
    "rank = 1\r\n",
    "\r\n",
    "songs = soup.select('table > tbody > tr')\r\n",
    "\r\n",
    "for song in songs:\r\n",
    "    title = song.select('a.title')[0].text.strip()\r\n",
    "    singer = song.select('a.artist')[0].text.strip()\r\n",
    "    song_data.append(['Genie', rank, title, singer])\r\n",
    "    rank += 1"
   ],
   "outputs": [],
   "metadata": {}
  },
  {
   "cell_type": "code",
   "execution_count": 20,
   "source": [
    "import pandas as pd\r\n",
    "\r\n",
    "columns = ['서비스', '순위', '타이틀', '가수']\r\n",
    "pd_data = pd.DataFrame(song_data, columns = columns)\r\n",
    "pd_data.to_excel('./list_music/ginie200.xlsx', index=False)"
   ],
   "outputs": [],
   "metadata": {}
  },
  {
   "cell_type": "code",
   "execution_count": null,
   "source": [],
   "outputs": [],
   "metadata": {}
  }
 ],
 "metadata": {
  "orig_nbformat": 4,
  "language_info": {
   "name": "python",
   "version": "3.8.8",
   "mimetype": "text/x-python",
   "codemirror_mode": {
    "name": "ipython",
    "version": 3
   },
   "pygments_lexer": "ipython3",
   "nbconvert_exporter": "python",
   "file_extension": ".py"
  },
  "kernelspec": {
   "name": "python3",
   "display_name": "Python 3.8.8 64-bit ('base': conda)"
  },
  "interpreter": {
   "hash": "99f5bf87da37b7285843ad8f0ffc00907637550e46aac3424e710e9b3d7d5b94"
  }
 },
 "nbformat": 4,
 "nbformat_minor": 2
}